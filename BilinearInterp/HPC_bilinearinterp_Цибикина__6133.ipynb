{
  "cells": [
    {
      "cell_type": "code",
      "execution_count": null,
      "metadata": {
        "id": "sM89IxZO1Uuh"
      },
      "outputs": [],
      "source": [
        "import numpy as np\n",
        "from PIL import Image\n",
        "import cupy as cp\n",
        "import time\n",
        "import pandas as pd\n",
        "from scipy.interpolate import RegularGridInterpolator"
      ]
    },
    {
      "cell_type": "code",
      "execution_count": null,
      "metadata": {
        "colab": {
          "base_uri": "https://localhost:8080/"
        },
        "id": "YNqViX531Uuj",
        "outputId": "3e273023-41c5-4c5f-f9e4-cbfbde932ce3"
      },
      "outputs": [
        {
          "output_type": "stream",
          "name": "stdout",
          "text": [
            "(813, 751)\n"
          ]
        }
      ],
      "source": [
        "img = Image.open('ris.bmp')\n",
        "arr = cp.array(img)\n",
        "print(arr.shape)"
      ]
    },
    {
      "cell_type": "code",
      "execution_count": null,
      "metadata": {
        "id": "yP3o3d1M1Uuk"
      },
      "outputs": [],
      "source": [
        "class CUDABilinearInterp:\n",
        "    def __init__(self, shape: tuple, matrix: cp.ndarray, params: dict):\n",
        "        self.add_kernel = cp.RawKernel(r'''\n",
        "        extern \"C\"\n",
        "        __global__ void bilinearInterp(unsigned char* input, double* output, int width, int height)\n",
        "        {\n",
        "            int x = blockIdx.x * blockDim.x + threadIdx.x;\n",
        "            int y = blockIdx.y * blockDim.y + threadIdx.y;\n",
        "\n",
        "            if (x < (width * 2) && y < (height * 2))\n",
        "            {\n",
        "                double px = x / 2.0;\n",
        "                double py = y / 2.0;\n",
        "\n",
        "                double fx = px - floor(px);\n",
        "                double fy = py - floor(py);\n",
        "                double fx1 = 1.0f - fx;\n",
        "                double fy1 = 1.0f - fy;\n",
        "\n",
        "                int px_int = (int)px;\n",
        "                int py_int = (int)py;\n",
        "\n",
        "                double result = input[py_int * width + px_int] * fx1 * fy1 +\n",
        "                            input[py_int * width + (px_int + 1)] * fx * fy1 +\n",
        "                            input[(py_int + 1) * width + px_int] * fx1 * fy +\n",
        "                            input[(py_int + 1) * width + (px_int + 1)] * fx * fy;\n",
        "\n",
        "                output[y * (width * 2) + x] = result;\n",
        "            }\n",
        "        }\n",
        "        ''',\n",
        "        \"bilinearInterp\")\n",
        "        self.matrix = matrix\n",
        "        self.flattened_matrix = cp.array(matrix.flatten())\n",
        "        self.shape = shape\n",
        "        self.params = params\n",
        "        self.result = cp.zeros((self.shape[0] * 2, self.shape[1] * 2), dtype=cp.float64)\n",
        "\n",
        "    def bilinear_interp(self):\n",
        "        x = np.arange(0, self.shape[1])\n",
        "        y = np.arange(0, self.shape[0])\n",
        "\n",
        "        new_x = np.linspace(0, self.shape[1]-1, int(self.shape[1] * 2), endpoint=False)\n",
        "        new_y = np.linspace(0, self.shape[0]-1, int(self.shape[0] * 2), endpoint=False)\n",
        "\n",
        "        interpolating_function = RegularGridInterpolator((y, x), cp.array(self.matrix).get(), method='linear')\n",
        "\n",
        "        points = np.meshgrid(new_y, new_x, indexing='ij')\n",
        "        points = np.stack(points, axis=-1)\n",
        "\n",
        "        new_image = interpolating_function(points)\n",
        "\n",
        "        return new_image\n",
        "\n",
        "    def get_result(self):\n",
        "        scipystart = time.perf_counter()\n",
        "        result_scipy = self.bilinear_interp()\n",
        "        scipyend = time.perf_counter()\n",
        "\n",
        "        gstart = time.perf_counter()\n",
        "        self.add_kernel((self.params[\"gridX\"], self.params[\"gridY\"]),\n",
        "                        (self.params[\"blockX\"], self.params[\"blockY\"]),\n",
        "                        (self.flattened_matrix, self.result,\n",
        "                         self.shape[1], self.shape[0]))\n",
        "        gend = time.perf_counter()\n",
        "\n",
        "        img_gpu = Image.fromarray(self.result.get())\n",
        "        img_scipy = Image.fromarray(result_scipy)\n",
        "        img_gpu = img_gpu.convert(\"RGB\")\n",
        "        img_scipy = img_scipy.convert(\"RGB\")\n",
        "\n",
        "        img_gpu.save('out_gpu.bmp')\n",
        "        img_scipy.save('out_scipy.bmp')\n",
        "\n",
        "        return {\n",
        "            \"matrix size\": str(self.shape),\n",
        "            \"parameters\": str(self.params),\n",
        "            \"gpu time\": (gend - gstart),\n",
        "            \"scipy time\": (scipyend - scipystart),\n",
        "            \"gpu result\": \"![Alt Text](out_gpu.bmp)\",\n",
        "            \"scipy result\": \"![Alt Text](out_scipy.bmp)\",\n",
        "        }\n"
      ]
    },
    {
      "cell_type": "code",
      "execution_count": null,
      "metadata": {
        "colab": {
          "base_uri": "https://localhost:8080/"
        },
        "id": "NitGE6y41Uuk",
        "outputId": "d621dae4-23d5-47a2-dc9b-6db8cd5dec97"
      },
      "outputs": [
        {
          "output_type": "stream",
          "name": "stdout",
          "text": [
            "| matrix size   | parameters                                             |   gpu time |   scipy time | gpu result               | scipy result               |\n",
            "|:--------------|:-------------------------------------------------------|-----------:|-------------:|:-------------------------|:---------------------------|\n",
            "| (813, 751)    | {'blockX': 32, 'blockY': 32, 'gridX': 48, 'gridY': 52} |  0.0920388 |      0.27111 | ![Alt Text](out_gpu.bmp) | ![Alt Text](out_scipy.bmp) |\n"
          ]
        }
      ],
      "source": [
        "size = arr.shape\n",
        "block = (32, 32)\n",
        "grid = (round((size[1] * 2 + block[0] - 1) / block[0]), round((size[0] * 2 + block[1] - 1) / block[1]))\n",
        "\n",
        "# Create the object and get the result\n",
        "obj = CUDABilinearInterp(size,\n",
        "                        arr,\n",
        "                        {\n",
        "                            \"blockX\": block[0],\n",
        "                            \"blockY\": block[1],\n",
        "                            \"gridX\": grid[0],\n",
        "                            \"gridY\": grid[1],\n",
        "                        })\n",
        "\n",
        "result = obj.get_result()\n",
        "\n",
        "# Print the result as a markdown table\n",
        "df1 = pd.DataFrame(result, index=[0])\n",
        "print(df1.to_markdown(index=False))"
      ]
    }
  ],
  "metadata": {
    "kernelspec": {
      "display_name": "Python 3",
      "name": "python3"
    },
    "language_info": {
      "codemirror_mode": {
        "name": "ipython",
        "version": 3
      },
      "file_extension": ".py",
      "mimetype": "text/x-python",
      "name": "python",
      "nbconvert_exporter": "python",
      "pygments_lexer": "ipython3",
      "version": "3.11.1"
    },
    "colab": {
      "provenance": [],
      "gpuType": "T4"
    },
    "accelerator": "GPU"
  },
  "nbformat": 4,
  "nbformat_minor": 0
}