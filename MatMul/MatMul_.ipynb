{
  "nbformat": 4,
  "nbformat_minor": 0,
  "metadata": {
    "colab": {
      "provenance": [],
      "gpuType": "T4",
      "include_colab_link": true
    },
    "kernelspec": {
      "name": "python3",
      "display_name": "Python 3"
    },
    "language_info": {
      "name": "python"
    },
    "accelerator": "GPU"
  },
  "cells": [
    {
      "cell_type": "markdown",
      "metadata": {
        "id": "view-in-github",
        "colab_type": "text"
      },
      "source": [
        "<a href=\"https://colab.research.google.com/github/tsibikina/Labs_HPC/blob/main/MatMul_.ipynb\" target=\"_parent\"><img src=\"https://colab.research.google.com/assets/colab-badge.svg\" alt=\"Open In Colab\"/></a>"
      ]
    },
    {
      "cell_type": "code",
      "source": [
        "!nvidia-smi"
      ],
      "metadata": {
        "colab": {
          "base_uri": "https://localhost:8080/"
        },
        "id": "k39OEySSo6t4",
        "outputId": "9655431b-02c3-4234-c4d8-7466c44d0f41"
      },
      "execution_count": null,
      "outputs": [
        {
          "output_type": "stream",
          "name": "stdout",
          "text": [
            "Wed Oct 16 19:43:18 2024       \n",
            "+---------------------------------------------------------------------------------------+\n",
            "| NVIDIA-SMI 535.104.05             Driver Version: 535.104.05   CUDA Version: 12.2     |\n",
            "|-----------------------------------------+----------------------+----------------------+\n",
            "| GPU  Name                 Persistence-M | Bus-Id        Disp.A | Volatile Uncorr. ECC |\n",
            "| Fan  Temp   Perf          Pwr:Usage/Cap |         Memory-Usage | GPU-Util  Compute M. |\n",
            "|                                         |                      |               MIG M. |\n",
            "|=========================================+======================+======================|\n",
            "|   0  Tesla T4                       Off | 00000000:00:04.0 Off |                    0 |\n",
            "| N/A   42C    P8               9W /  70W |      0MiB / 15360MiB |      0%      Default |\n",
            "|                                         |                      |                  N/A |\n",
            "+-----------------------------------------+----------------------+----------------------+\n",
            "                                                                                         \n",
            "+---------------------------------------------------------------------------------------+\n",
            "| Processes:                                                                            |\n",
            "|  GPU   GI   CI        PID   Type   Process name                            GPU Memory |\n",
            "|        ID   ID                                                             Usage      |\n",
            "|=======================================================================================|\n",
            "|  No running processes found                                                           |\n",
            "+---------------------------------------------------------------------------------------+\n"
          ]
        }
      ]
    },
    {
      "cell_type": "code",
      "source": [
        "!nvcc --version"
      ],
      "metadata": {
        "colab": {
          "base_uri": "https://localhost:8080/"
        },
        "id": "OLrksQO-njii",
        "outputId": "cfea467f-cc98-4f2c-ddfc-55e85cd59ec0"
      },
      "execution_count": null,
      "outputs": [
        {
          "output_type": "stream",
          "name": "stdout",
          "text": [
            "nvcc: NVIDIA (R) Cuda compiler driver\n",
            "Copyright (c) 2005-2023 NVIDIA Corporation\n",
            "Built on Tue_Aug_15_22:02:13_PDT_2023\n",
            "Cuda compilation tools, release 12.2, V12.2.140\n",
            "Build cuda_12.2.r12.2/compiler.33191640_0\n"
          ]
        }
      ]
    },
    {
      "cell_type": "code",
      "source": [
        "import numpy as np\n",
        "import cupy as cp\n",
        "import time\n",
        "from numba import jit\n",
        "from tabulate import tabulate"
      ],
      "metadata": {
        "id": "vraqEkrupQW2"
      },
      "execution_count": null,
      "outputs": []
    },
    {
      "cell_type": "code",
      "source": [
        "class cuda_kernels():\n",
        "    @staticmethod\n",
        "    def matmul_cuda():\n",
        "        kernel = cp.RawKernel(r'''\n",
        "        #include <cupy/complex.cuh>\n",
        "        extern \"C\"{\n",
        "            __global__ void matmul(const double *A, const double *B, double *C, int m, int n, int p)\n",
        "            {\n",
        "                int row = blockIdx.y * blockDim.y + threadIdx.y;\n",
        "                int col = blockIdx.x * blockDim.x + threadIdx.x;\n",
        "                if (row < m && col < p) {\n",
        "                    double sum = 0.0;\n",
        "                    for (int k = 0; k < n; k++) {\n",
        "                        sum += A[row * n + k] * B[k * p + col];\n",
        "                    }\n",
        "                    C[row * p + col] = sum;\n",
        "                }\n",
        "            }\n",
        "        }''', 'matmul')\n",
        "        return kernel\n",
        "\n",
        "@jit\n",
        "def matmul(A, B, m, n, p):\n",
        "    C = np.zeros((m,p))\n",
        "    for i in range(m):\n",
        "        for j in range(p):\n",
        "            for k in range(n):\n",
        "                C[i,j] = C[i,j] + A[i,k]*B[k,j]\n",
        "    return C"
      ],
      "metadata": {
        "id": "ADZGWfNWcU2Y"
      },
      "execution_count": null,
      "outputs": []
    },
    {
      "cell_type": "code",
      "source": [
        "# Функция для генерации случайных матриц\n",
        "def generate_matrices(m, n, p):\n",
        "    A = np.random.rand(m, n)\n",
        "    B = np.random.rand(n, p)\n",
        "    return A, B\n",
        "\n",
        "# Функция для выполнения умножения матриц на CUDA\n",
        "def cuda_matrix_multiplication(A, B, m, n, p):\n",
        "    A_gpu = cp.asarray(A)\n",
        "    B_gpu = cp.asarray(B)\n",
        "    C_gpu = cp.zeros((m, p), dtype=np.float64)\n",
        "\n",
        "    kernel = cuda_kernels.matmul_cuda()\n",
        "    threads_per_block = (16, 16)\n",
        "    blocks_per_grid_x = int(np.ceil(p / threads_per_block[0]))\n",
        "    blocks_per_grid_y = int(np.ceil(m / threads_per_block[1]))\n",
        "    blocks_per_grid = (blocks_per_grid_x, blocks_per_grid_y)\n",
        "\n",
        "    start_cuda = time.time()\n",
        "    kernel(blocks_per_grid, threads_per_block, (A_gpu, B_gpu, C_gpu, m, n, p))\n",
        "    cp.cuda.Stream.null.synchronize()\n",
        "    end_cuda = time.time()\n",
        "    time_cuda = end_cuda - start_cuda\n",
        "\n",
        "    C_cuda = cp.asnumpy(C_gpu)\n",
        "    return C_cuda, time_cuda\n",
        "\n",
        "# Функция для выполнения умножения матриц на NumPy\n",
        "def numpy_matrix_multiplication(A, B, m, n, p):\n",
        "    start_numpy = time.time()\n",
        "    C_numpy = np.matmul(A, B)\n",
        "    end_numpy = time.time()\n",
        "    time_numpy = end_numpy - start_numpy\n",
        "    return C_numpy, time_numpy\n",
        "\n",
        "# Функция для проверки корректности результатов\n",
        "def check_correctness(C_cuda, C_numpy):\n",
        "    return np.allclose(C_cuda, C_numpy, rtol=1e-5, atol=1e-5)"
      ],
      "metadata": {
        "id": "Xrn7EvbvccmL"
      },
      "execution_count": null,
      "outputs": []
    },
    {
      "cell_type": "code",
      "source": [
        "# Основная функция для запуска эксперимента\n",
        "def run_experiment(m, n, p):\n",
        "    A, B = generate_matrices(m, n, p)\n",
        "    C_cuda, time_cuda = cuda_matrix_multiplication(A, B, m, n, p)\n",
        "    C_numpy, time_numpy = numpy_matrix_multiplication(A, B, m, n, p)\n",
        "    correct = check_correctness(C_cuda, C_numpy)\n",
        "    speedup = time_numpy / time_cuda\n",
        "    return time_cuda, time_numpy, correct, speedup\n",
        "\n",
        "# Список размеров матриц для экспериментов\n",
        "sizes = [(100, 100, 100), (500, 500, 500), (1000, 1000, 1000), (2000, 2000, 2000)]\n",
        "results = []\n",
        "\n",
        "# Запуск экспериментов\n",
        "for m, n, p in sizes:\n",
        "    time_cuda, time_numpy, correct, speedup = run_experiment(m, n, p)\n",
        "    results.append((m, n, p, time_cuda, time_numpy, speedup, correct))\n",
        "\n",
        "# Заголовки столбцов\n",
        "headers = [\"Matrix Size (m, n, p)\", \"CUDA Time (s)\", \"NumPy Time (s)\", \"Speedup\", \"Correct\"]\n",
        "\n",
        "# Форматирование данных\n",
        "formatted_results = []\n",
        "for result in results:\n",
        "    formatted_results.append([\n",
        "        f\"{result[0]}x{result[1]}x{result[2]}\",\n",
        "        f\"{result[3]:.6f}\",\n",
        "        f\"{result[4]:.6f}\",\n",
        "        f\"{result[5]:.2f}\",\n",
        "        'Yes' if result[6] else 'No'\n",
        "    ])\n",
        "\n",
        "# Вывод таблицы\n",
        "print(tabulate(formatted_results, headers=headers, tablefmt=\"grid\")\n"
      ],
      "metadata": {
        "colab": {
          "base_uri": "https://localhost:8080/"
        },
        "id": "8g7L3cFKMkC3",
        "outputId": "d8c4a487-cb50-445f-9aa5-7cc80ffced59"
      },
      "execution_count": null,
      "outputs": [
        {
          "output_type": "stream",
          "name": "stdout",
          "text": [
            "+-------------------------+-----------------+------------------+-----------+-----------+\n",
            "| Matrix Size (m, n, p)   |   CUDA Time (s) |   NumPy Time (s) |   Speedup | Correct   |\n",
            "+=========================+=================+==================+===========+===========+\n",
            "| 100x100x100             |        0.000198 |         0.166418 |    839.96 | Yes       |\n",
            "+-------------------------+-----------------+------------------+-----------+-----------+\n",
            "| 500x500x500             |        0.00304  |         0.16868  |     55.49 | Yes       |\n",
            "+-------------------------+-----------------+------------------+-----------+-----------+\n",
            "| 1000x1000x1000          |        0.023245 |         1.6534   |     71.13 | Yes       |\n",
            "+-------------------------+-----------------+------------------+-----------+-----------+\n",
            "| 2000x2000x2000          |        0.180023 |        20.1322   |    111.83 | Yes       |\n",
            "+-------------------------+-----------------+------------------+-----------+-----------+\n"
          ]
        }
      ]
    },
    {
      "cell_type": "code",
      "source": [
        "import matplotlib.pyplot as plt\n",
        "\n",
        "# Извлечение данных для построения графика\n",
        "matrix_sizes = [result[0] for result in results]\n",
        "cuda_times = [result[3] for result in results]\n",
        "numpy_times = [result[4] for result in results]\n",
        "\n",
        "# Построение графика\n",
        "plt.figure(figsize=(10, 6))\n",
        "plt.plot(matrix_sizes, cuda_times, label='CUDA', marker='o')\n",
        "plt.plot(matrix_sizes, numpy_times, label='NumPy', marker='o')\n",
        "plt.xlabel('Matrix Size (m x n x p)')\n",
        "plt.ylabel('Time (s)')\n",
        "plt.title('Matrix Multiplication Time Comparison')\n",
        "plt.legend()\n",
        "plt.grid(True)\n",
        "plt.show()"
      ],
      "metadata": {
        "colab": {
          "base_uri": "https://localhost:8080/",
          "height": 564
        },
        "id": "mzWMBVbiMwoN",
        "outputId": "2daef10b-c13a-4bda-960d-ece022e06bf2"
      },
      "execution_count": null,
      "outputs": [
        {
          "output_type": "display_data",
          "data": {
            "text/plain": [
              "<Figure size 1000x600 with 1 Axes>"
            ],
            "image/png": "[encoded data removed]"
          },
          "metadata": {}
        }
      ]
    }
  ]
}
