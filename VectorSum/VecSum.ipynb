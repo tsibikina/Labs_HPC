{
  "nbformat": 4,
  "nbformat_minor": 0,
  "metadata": {
    "colab": {
      "provenance": [],
      "gpuType": "T4"
    },
    "kernelspec": {
      "name": "python3",
      "display_name": "Python 3"
    },
    "language_info": {
      "name": "python"
    },
    "accelerator": "GPU"
  },
  "cells": [
    {
      "cell_type": "code",
      "source": [
        "!nvidia-smi"
      ],
      "metadata": {
        "colab": {
          "base_uri": "https://localhost:8080/"
        },
        "id": "G2zjxvJgvPE0",
        "outputId": "f896e854-29f4-496d-e2d9-344c668e8003"
      },
      "execution_count": null,
      "outputs": [
        {
          "output_type": "stream",
          "name": "stdout",
          "text": [
            "Wed Oct 23 18:01:37 2024       \n",
            "+---------------------------------------------------------------------------------------+\n",
            "| NVIDIA-SMI 535.104.05             Driver Version: 535.104.05   CUDA Version: 12.2     |\n",
            "|-----------------------------------------+----------------------+----------------------+\n",
            "| GPU  Name                 Persistence-M | Bus-Id        Disp.A | Volatile Uncorr. ECC |\n",
            "| Fan  Temp   Perf          Pwr:Usage/Cap |         Memory-Usage | GPU-Util  Compute M. |\n",
            "|                                         |                      |               MIG M. |\n",
            "|=========================================+======================+======================|\n",
            "|   0  Tesla T4                       Off | 00000000:00:04.0 Off |                    0 |\n",
            "| N/A   45C    P8               9W /  70W |      0MiB / 15360MiB |      0%      Default |\n",
            "|                                         |                      |                  N/A |\n",
            "+-----------------------------------------+----------------------+----------------------+\n",
            "                                                                                         \n",
            "+---------------------------------------------------------------------------------------+\n",
            "| Processes:                                                                            |\n",
            "|  GPU   GI   CI        PID   Type   Process name                            GPU Memory |\n",
            "|        ID   ID                                                             Usage      |\n",
            "|=======================================================================================|\n",
            "|  No running processes found                                                           |\n",
            "+---------------------------------------------------------------------------------------+\n"
          ]
        }
      ]
    },
    {
      "cell_type": "code",
      "source": [
        "!nvcc --version"
      ],
      "metadata": {
        "colab": {
          "base_uri": "https://localhost:8080/"
        },
        "id": "tM3lVnMzvQTo",
        "outputId": "4ff7027a-a9e2-4243-f97c-09c7d03bb6bd"
      },
      "execution_count": null,
      "outputs": [
        {
          "output_type": "stream",
          "name": "stdout",
          "text": [
            "nvcc: NVIDIA (R) Cuda compiler driver\n",
            "Copyright (c) 2005-2023 NVIDIA Corporation\n",
            "Built on Tue_Aug_15_22:02:13_PDT_2023\n",
            "Cuda compilation tools, release 12.2, V12.2.140\n",
            "Build cuda_12.2.r12.2/compiler.33191640_0\n"
          ]
        }
      ]
    },
    {
      "cell_type": "code",
      "source": [
        "import numpy as np\n",
        "import time\n",
        "\n",
        "def cpu_vector_addition(a, b):\n",
        "    return a + b\n",
        "\n",
        "def measure_cpu_time(size):\n",
        "    a = np.random.rand(size)\n",
        "    b = np.random.rand(size)\n",
        "\n",
        "    start_time = time.time()\n",
        "    result = cpu_vector_addition(a, b)\n",
        "    end_time = time.time()\n",
        "\n",
        "    return end_time - start_time"
      ],
      "metadata": {
        "id": "bErt64LOzQAJ"
      },
      "execution_count": null,
      "outputs": []
    },
    {
      "cell_type": "code",
      "source": [
        "pip install pycuda"
      ],
      "metadata": {
        "colab": {
          "base_uri": "https://localhost:8080/"
        },
        "id": "yui2DnQrzQ1Z",
        "outputId": "889c3083-c77f-45cf-b2f8-8498203e4ae4"
      },
      "execution_count": null,
      "outputs": [
        {
          "output_type": "stream",
          "name": "stdout",
          "text": [
            "Collecting pycuda\n",
            "  Downloading pycuda-2024.1.2.tar.gz (1.7 MB)\n",
            "\u001b[?25l     \u001b[90m━━━━━━━━━━━━━━━━━━━━━━━━━━━━━━━━━━━━━━━━\u001b[0m \u001b[32m0.0/1.7 MB\u001b[0m \u001b[31m?\u001b[0m eta \u001b[36m-:--:--\u001b[0m\r\u001b[2K     \u001b[90m━━━━━━━━━━━━━━━━━━━━━━━━━━━━━━━━━━━━━━━━\u001b[0m \u001b[32m1.7/1.7 MB\u001b[0m \u001b[31m60.2 MB/s\u001b[0m eta \u001b[36m0:00:00\u001b[0m\n",
            "\u001b[?25h  Installing build dependencies ... \u001b[?25l\u001b[?25hdone\n",
            "  Getting requirements to build wheel ... \u001b[?25l\u001b[?25hdone\n",
            "  Preparing metadata (pyproject.toml) ... \u001b[?25l\u001b[?25hdone\n",
            "Collecting pytools>=2011.2 (from pycuda)\n",
            "  Downloading pytools-2024.1.14-py3-none-any.whl.metadata (3.0 kB)\n",
            "Requirement already satisfied: platformdirs>=2.2.0 in /usr/local/lib/python3.10/dist-packages (from pycuda) (4.3.6)\n",
            "Collecting mako (from pycuda)\n",
            "  Downloading Mako-1.3.6-py3-none-any.whl.metadata (2.9 kB)\n",
            "Requirement already satisfied: typing-extensions>=4 in /usr/local/lib/python3.10/dist-packages (from pytools>=2011.2->pycuda) (4.12.2)\n",
            "Requirement already satisfied: MarkupSafe>=0.9.2 in /usr/local/lib/python3.10/dist-packages (from mako->pycuda) (3.0.2)\n",
            "Downloading pytools-2024.1.14-py3-none-any.whl (89 kB)\n",
            "\u001b[2K   \u001b[90m━━━━━━━━━━━━━━━━━━━━━━━━━━━━━━━━━━━━━━━━\u001b[0m \u001b[32m89.9/89.9 kB\u001b[0m \u001b[31m8.0 MB/s\u001b[0m eta \u001b[36m0:00:00\u001b[0m\n",
            "\u001b[?25hDownloading Mako-1.3.6-py3-none-any.whl (78 kB)\n",
            "\u001b[2K   \u001b[90m━━━━━━━━━━━━━━━━━━━━━━━━━━━━━━━━━━━━━━━━\u001b[0m \u001b[32m78.6/78.6 kB\u001b[0m \u001b[31m6.1 MB/s\u001b[0m eta \u001b[36m0:00:00\u001b[0m\n",
            "\u001b[?25hBuilding wheels for collected packages: pycuda\n",
            "  Building wheel for pycuda (pyproject.toml) ... \u001b[?25l\u001b[?25hdone\n",
            "  Created wheel for pycuda: filename=pycuda-2024.1.2-cp310-cp310-linux_x86_64.whl size=660545 sha256=61f234ebfc06df6ea6c9a9419f153bfc10aa50bc5f894ed0a773604740e94844\n",
            "  Stored in directory: /root/.cache/pip/wheels/70/63/40/4bf006182f942d3516b71bb2ff3b57ccbdb8b2c0ee81882b6e\n",
            "Successfully built pycuda\n",
            "Installing collected packages: pytools, mako, pycuda\n",
            "Successfully installed mako-1.3.6 pycuda-2024.1.2 pytools-2024.1.14\n"
          ]
        }
      ]
    },
    {
      "cell_type": "code",
      "source": [
        "import pycuda.driver as cuda\n",
        "import pycuda.autoinit\n",
        "from matplotlib import pyplot as plt\n",
        "from pycuda.compiler import SourceModule\n",
        "import numpy as np\n",
        "import cupy as cp\n",
        "import time\n",
        "\n",
        "\n",
        "def vector_addition_cpu(vector1, vector2):\n",
        "    if len(vector1) != len(vector2):\n",
        "        raise ValueError(\"Vectors must be of the same length\")\n",
        "\n",
        "    result = np.zeros_like(vector1)\n",
        "    start = time.time()\n",
        "    for i in range(len(vector1)):\n",
        "        result[i] = vector1[i] + vector2[i]\n",
        "    end = time.time()\n",
        "    return result, end - start\n",
        "\n",
        "\n",
        "vector_sum_kernel = (\"\"\"\n",
        "__global__ void vectorAdditionKernel(float* res, float* a, float* b, unsigned int size) {\n",
        "    for (int i = blockIdx.x * blockDim.x + threadIdx.x; i < size; i += blockDim.x * gridDim.x)\n",
        "        res[i] = a[i] + b[i];\n",
        "}\n",
        "\"\"\")\n",
        "\n",
        "\n",
        "def vector_addition_gpu(vector1, vector2):\n",
        "    if len(vector1) != len(vector2):\n",
        "        raise ValueError(\"Vectors must be of the same length\")\n",
        "\n",
        "    start_time = time.time()\n",
        "\n",
        "    block_size = 256\n",
        "    grid_size = (len(vector1) + block_size - 1) // block_size\n",
        "\n",
        "    res = np.zeros_like(vector1, dtype=np.float32)\n",
        "    vec1_gpu = cuda.mem_alloc(vector1.nbytes)\n",
        "    vec2_gpu = cuda.mem_alloc(vector2.nbytes)\n",
        "    result_gpu = cuda.mem_alloc(res.nbytes)\n",
        "\n",
        "    cuda.memcpy_htod(vec1_gpu, vector1)\n",
        "    cuda.memcpy_htod(vec2_gpu, vector2)\n",
        "    cuda.memcpy_htod(result_gpu, res)\n",
        "\n",
        "    mod = SourceModule(vector_sum_kernel)\n",
        "    vector_addition = mod.get_function(\"vectorAdditionKernel\")\n",
        "    vector_addition(result_gpu, vec1_gpu, vec2_gpu, np.uint32(len(vector1)), block=(block_size, 1, 1), grid=(grid_size, 1))\n",
        "    cuda.Context.get_current().synchronize()\n",
        "\n",
        "    cuda.memcpy_dtoh(res, result_gpu)\n",
        "    end_time = time.time()\n",
        "\n",
        "    return res, end_time - start_time\n",
        "\n",
        "\n",
        "def compare_vector_addition_times(vector_lengths):\n",
        "    results = []\n",
        "    for length in vector_lengths:\n",
        "        vector1 = np.random.rand(length).astype(np.float32)\n",
        "        vector2 = np.random.rand(length).astype(np.float32)\n",
        "\n",
        "        cpu_result, cpu_time = vector_addition_cpu(vector1, vector2)\n",
        "        gpu_result, gpu_time = vector_addition_gpu(vector1, vector2)\n",
        "\n",
        "        # Проверка результатов\n",
        "        if not np.allclose(cpu_result, gpu_result):\n",
        "            raise ValueError(\"Results do not match!\")\n",
        "\n",
        "        speedup = cpu_time / gpu_time\n",
        "        results.append((length, cpu_time, gpu_time, speedup))\n",
        "\n",
        "    return results\n",
        "\n",
        "\n",
        "def print_results_table(results):\n",
        "    print(\"Vector Length | CPU Time (s) | GPU Time (s) | Speedup\")\n",
        "    print(\"-\" * 65)\n",
        "    for length, cpu_time, gpu_time, speedup in results:\n",
        "        print(f\"{length:<13} | {cpu_time:.6f} | {gpu_time:.6f} | {speedup:.2f}x\")\n",
        "\n",
        "\n",
        "if __name__ == \"__main__\":\n",
        "    vector_lengths = [1000, 10000, 50000, 100000]\n",
        "    results = compare_vector_addition_times(vector_lengths)\n",
        "    print_results_table(results)"
      ],
      "metadata": {
        "colab": {
          "base_uri": "https://localhost:8080/"
        },
        "id": "jnHlkxKkG0V2",
        "outputId": "4120f70d-725e-4c92-8060-8ebe9a752468"
      },
      "execution_count": 47,
      "outputs": [
        {
          "output_type": "stream",
          "name": "stdout",
          "text": [
            "Vector Length | CPU Time (s) | GPU Time (s) | Speedup\n",
            "-----------------------------------------------------------------\n",
            "1000          | 0.000763 | 0.000895 | 0.85x\n",
            "10000         | 0.009667 | 0.000836 | 11.56x\n",
            "50000         | 0.034792 | 0.000895 | 38.89x\n",
            "100000        | 0.068200 | 0.001446 | 47.15x\n"
          ]
        }
      ]
    }
  ]
}